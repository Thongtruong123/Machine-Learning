{
 "cells": [
  {
   "cell_type": "code",
   "execution_count": 1,
   "id": "b24b10c8",
   "metadata": {
    "_cell_guid": "b1076dfc-b9ad-4769-8c92-a6c4dae69d19",
    "_uuid": "8f2839f25d086af736a60e9eeb907d3b93b6e0e5",
    "execution": {
     "iopub.execute_input": "2024-03-15T18:48:15.622990Z",
     "iopub.status.busy": "2024-03-15T18:48:15.622696Z",
     "iopub.status.idle": "2024-03-15T18:48:16.910748Z",
     "shell.execute_reply": "2024-03-15T18:48:16.909712Z"
    },
    "papermill": {
     "duration": 1.303232,
     "end_time": "2024-03-15T18:48:16.912934",
     "exception": false,
     "start_time": "2024-03-15T18:48:15.609702",
     "status": "completed"
    },
    "tags": []
   },
   "outputs": [
    {
     "name": "stdout",
     "output_type": "stream",
     "text": [
      "/kaggle/input/titanic/train_and_test2.csv\n"
     ]
    }
   ],
   "source": [
    "# This Python 3 environment comes with many helpful analytics libraries installed\n",
    "# It is defined by the kaggle/python Docker image: https://github.com/kaggle/docker-python\n",
    "# For example, here's several helpful packages to load\n",
    "\n",
    "import numpy as np # linear algebra\n",
    "import pandas as pd # data processing, CSV file I/O (e.g. pd.read_csv)\n",
    "\n",
    "# Input data files are available in the read-only \"../input/\" directory\n",
    "# For example, running this (by clicking run or pressing Shift+Enter) will list all files under the input directory\n",
    "\n",
    "import os\n",
    "for dirname, _, filenames in os.walk('/kaggle/input'):\n",
    "    for filename in filenames:\n",
    "        print(os.path.join(dirname, filename))\n",
    "\n",
    "# You can write up to 20GB to the current directory (/kaggle/working/) that gets preserved as output when you create a version using \"Save & Run All\" \n",
    "# You can also write temporary files to /kaggle/temp/, but they won't be saved outside of the current session"
   ]
  },
  {
   "cell_type": "code",
   "execution_count": 2,
   "id": "89024c2e",
   "metadata": {
    "execution": {
     "iopub.execute_input": "2024-03-15T18:48:16.937509Z",
     "iopub.status.busy": "2024-03-15T18:48:16.937128Z",
     "iopub.status.idle": "2024-03-15T18:48:17.012573Z",
     "shell.execute_reply": "2024-03-15T18:48:17.011637Z"
    },
    "papermill": {
     "duration": 0.089672,
     "end_time": "2024-03-15T18:48:17.014491",
     "exception": false,
     "start_time": "2024-03-15T18:48:16.924819",
     "status": "completed"
    },
    "tags": []
   },
   "outputs": [
    {
     "data": {
      "text/html": [
       "<div>\n",
       "<style scoped>\n",
       "    .dataframe tbody tr th:only-of-type {\n",
       "        vertical-align: middle;\n",
       "    }\n",
       "\n",
       "    .dataframe tbody tr th {\n",
       "        vertical-align: top;\n",
       "    }\n",
       "\n",
       "    .dataframe thead th {\n",
       "        text-align: right;\n",
       "    }\n",
       "</style>\n",
       "<table border=\"1\" class=\"dataframe\">\n",
       "  <thead>\n",
       "    <tr style=\"text-align: right;\">\n",
       "      <th></th>\n",
       "      <th>Age</th>\n",
       "      <th>Fare</th>\n",
       "      <th>Sex</th>\n",
       "      <th>sibsp</th>\n",
       "      <th>zero</th>\n",
       "      <th>zero.1</th>\n",
       "      <th>zero.2</th>\n",
       "      <th>zero.3</th>\n",
       "      <th>zero.4</th>\n",
       "      <th>zero.5</th>\n",
       "      <th>...</th>\n",
       "      <th>zero.12</th>\n",
       "      <th>zero.13</th>\n",
       "      <th>zero.14</th>\n",
       "      <th>Pclass</th>\n",
       "      <th>zero.15</th>\n",
       "      <th>zero.16</th>\n",
       "      <th>Embarked</th>\n",
       "      <th>zero.17</th>\n",
       "      <th>zero.18</th>\n",
       "      <th>2urvived</th>\n",
       "    </tr>\n",
       "    <tr>\n",
       "      <th>Passengerid</th>\n",
       "      <th></th>\n",
       "      <th></th>\n",
       "      <th></th>\n",
       "      <th></th>\n",
       "      <th></th>\n",
       "      <th></th>\n",
       "      <th></th>\n",
       "      <th></th>\n",
       "      <th></th>\n",
       "      <th></th>\n",
       "      <th></th>\n",
       "      <th></th>\n",
       "      <th></th>\n",
       "      <th></th>\n",
       "      <th></th>\n",
       "      <th></th>\n",
       "      <th></th>\n",
       "      <th></th>\n",
       "      <th></th>\n",
       "      <th></th>\n",
       "      <th></th>\n",
       "    </tr>\n",
       "  </thead>\n",
       "  <tbody>\n",
       "    <tr>\n",
       "      <th>1</th>\n",
       "      <td>22.0</td>\n",
       "      <td>7.2500</td>\n",
       "      <td>0</td>\n",
       "      <td>1</td>\n",
       "      <td>0</td>\n",
       "      <td>0</td>\n",
       "      <td>0</td>\n",
       "      <td>0</td>\n",
       "      <td>0</td>\n",
       "      <td>0</td>\n",
       "      <td>...</td>\n",
       "      <td>0</td>\n",
       "      <td>0</td>\n",
       "      <td>0</td>\n",
       "      <td>3</td>\n",
       "      <td>0</td>\n",
       "      <td>0</td>\n",
       "      <td>2.0</td>\n",
       "      <td>0</td>\n",
       "      <td>0</td>\n",
       "      <td>0</td>\n",
       "    </tr>\n",
       "    <tr>\n",
       "      <th>2</th>\n",
       "      <td>38.0</td>\n",
       "      <td>71.2833</td>\n",
       "      <td>1</td>\n",
       "      <td>1</td>\n",
       "      <td>0</td>\n",
       "      <td>0</td>\n",
       "      <td>0</td>\n",
       "      <td>0</td>\n",
       "      <td>0</td>\n",
       "      <td>0</td>\n",
       "      <td>...</td>\n",
       "      <td>0</td>\n",
       "      <td>0</td>\n",
       "      <td>0</td>\n",
       "      <td>1</td>\n",
       "      <td>0</td>\n",
       "      <td>0</td>\n",
       "      <td>0.0</td>\n",
       "      <td>0</td>\n",
       "      <td>0</td>\n",
       "      <td>1</td>\n",
       "    </tr>\n",
       "    <tr>\n",
       "      <th>3</th>\n",
       "      <td>26.0</td>\n",
       "      <td>7.9250</td>\n",
       "      <td>1</td>\n",
       "      <td>0</td>\n",
       "      <td>0</td>\n",
       "      <td>0</td>\n",
       "      <td>0</td>\n",
       "      <td>0</td>\n",
       "      <td>0</td>\n",
       "      <td>0</td>\n",
       "      <td>...</td>\n",
       "      <td>0</td>\n",
       "      <td>0</td>\n",
       "      <td>0</td>\n",
       "      <td>3</td>\n",
       "      <td>0</td>\n",
       "      <td>0</td>\n",
       "      <td>2.0</td>\n",
       "      <td>0</td>\n",
       "      <td>0</td>\n",
       "      <td>1</td>\n",
       "    </tr>\n",
       "    <tr>\n",
       "      <th>4</th>\n",
       "      <td>35.0</td>\n",
       "      <td>53.1000</td>\n",
       "      <td>1</td>\n",
       "      <td>1</td>\n",
       "      <td>0</td>\n",
       "      <td>0</td>\n",
       "      <td>0</td>\n",
       "      <td>0</td>\n",
       "      <td>0</td>\n",
       "      <td>0</td>\n",
       "      <td>...</td>\n",
       "      <td>0</td>\n",
       "      <td>0</td>\n",
       "      <td>0</td>\n",
       "      <td>1</td>\n",
       "      <td>0</td>\n",
       "      <td>0</td>\n",
       "      <td>2.0</td>\n",
       "      <td>0</td>\n",
       "      <td>0</td>\n",
       "      <td>1</td>\n",
       "    </tr>\n",
       "    <tr>\n",
       "      <th>5</th>\n",
       "      <td>35.0</td>\n",
       "      <td>8.0500</td>\n",
       "      <td>0</td>\n",
       "      <td>0</td>\n",
       "      <td>0</td>\n",
       "      <td>0</td>\n",
       "      <td>0</td>\n",
       "      <td>0</td>\n",
       "      <td>0</td>\n",
       "      <td>0</td>\n",
       "      <td>...</td>\n",
       "      <td>0</td>\n",
       "      <td>0</td>\n",
       "      <td>0</td>\n",
       "      <td>3</td>\n",
       "      <td>0</td>\n",
       "      <td>0</td>\n",
       "      <td>2.0</td>\n",
       "      <td>0</td>\n",
       "      <td>0</td>\n",
       "      <td>0</td>\n",
       "    </tr>\n",
       "    <tr>\n",
       "      <th>...</th>\n",
       "      <td>...</td>\n",
       "      <td>...</td>\n",
       "      <td>...</td>\n",
       "      <td>...</td>\n",
       "      <td>...</td>\n",
       "      <td>...</td>\n",
       "      <td>...</td>\n",
       "      <td>...</td>\n",
       "      <td>...</td>\n",
       "      <td>...</td>\n",
       "      <td>...</td>\n",
       "      <td>...</td>\n",
       "      <td>...</td>\n",
       "      <td>...</td>\n",
       "      <td>...</td>\n",
       "      <td>...</td>\n",
       "      <td>...</td>\n",
       "      <td>...</td>\n",
       "      <td>...</td>\n",
       "      <td>...</td>\n",
       "      <td>...</td>\n",
       "    </tr>\n",
       "    <tr>\n",
       "      <th>1305</th>\n",
       "      <td>28.0</td>\n",
       "      <td>8.0500</td>\n",
       "      <td>0</td>\n",
       "      <td>0</td>\n",
       "      <td>0</td>\n",
       "      <td>0</td>\n",
       "      <td>0</td>\n",
       "      <td>0</td>\n",
       "      <td>0</td>\n",
       "      <td>0</td>\n",
       "      <td>...</td>\n",
       "      <td>0</td>\n",
       "      <td>0</td>\n",
       "      <td>0</td>\n",
       "      <td>3</td>\n",
       "      <td>0</td>\n",
       "      <td>0</td>\n",
       "      <td>2.0</td>\n",
       "      <td>0</td>\n",
       "      <td>0</td>\n",
       "      <td>0</td>\n",
       "    </tr>\n",
       "    <tr>\n",
       "      <th>1306</th>\n",
       "      <td>39.0</td>\n",
       "      <td>108.9000</td>\n",
       "      <td>1</td>\n",
       "      <td>0</td>\n",
       "      <td>0</td>\n",
       "      <td>0</td>\n",
       "      <td>0</td>\n",
       "      <td>0</td>\n",
       "      <td>0</td>\n",
       "      <td>0</td>\n",
       "      <td>...</td>\n",
       "      <td>0</td>\n",
       "      <td>0</td>\n",
       "      <td>0</td>\n",
       "      <td>1</td>\n",
       "      <td>0</td>\n",
       "      <td>0</td>\n",
       "      <td>0.0</td>\n",
       "      <td>0</td>\n",
       "      <td>0</td>\n",
       "      <td>0</td>\n",
       "    </tr>\n",
       "    <tr>\n",
       "      <th>1307</th>\n",
       "      <td>38.5</td>\n",
       "      <td>7.2500</td>\n",
       "      <td>0</td>\n",
       "      <td>0</td>\n",
       "      <td>0</td>\n",
       "      <td>0</td>\n",
       "      <td>0</td>\n",
       "      <td>0</td>\n",
       "      <td>0</td>\n",
       "      <td>0</td>\n",
       "      <td>...</td>\n",
       "      <td>0</td>\n",
       "      <td>0</td>\n",
       "      <td>0</td>\n",
       "      <td>3</td>\n",
       "      <td>0</td>\n",
       "      <td>0</td>\n",
       "      <td>2.0</td>\n",
       "      <td>0</td>\n",
       "      <td>0</td>\n",
       "      <td>0</td>\n",
       "    </tr>\n",
       "    <tr>\n",
       "      <th>1308</th>\n",
       "      <td>28.0</td>\n",
       "      <td>8.0500</td>\n",
       "      <td>0</td>\n",
       "      <td>0</td>\n",
       "      <td>0</td>\n",
       "      <td>0</td>\n",
       "      <td>0</td>\n",
       "      <td>0</td>\n",
       "      <td>0</td>\n",
       "      <td>0</td>\n",
       "      <td>...</td>\n",
       "      <td>0</td>\n",
       "      <td>0</td>\n",
       "      <td>0</td>\n",
       "      <td>3</td>\n",
       "      <td>0</td>\n",
       "      <td>0</td>\n",
       "      <td>2.0</td>\n",
       "      <td>0</td>\n",
       "      <td>0</td>\n",
       "      <td>0</td>\n",
       "    </tr>\n",
       "    <tr>\n",
       "      <th>1309</th>\n",
       "      <td>28.0</td>\n",
       "      <td>22.3583</td>\n",
       "      <td>0</td>\n",
       "      <td>1</td>\n",
       "      <td>0</td>\n",
       "      <td>0</td>\n",
       "      <td>0</td>\n",
       "      <td>0</td>\n",
       "      <td>0</td>\n",
       "      <td>0</td>\n",
       "      <td>...</td>\n",
       "      <td>0</td>\n",
       "      <td>0</td>\n",
       "      <td>0</td>\n",
       "      <td>3</td>\n",
       "      <td>0</td>\n",
       "      <td>0</td>\n",
       "      <td>0.0</td>\n",
       "      <td>0</td>\n",
       "      <td>0</td>\n",
       "      <td>0</td>\n",
       "    </tr>\n",
       "  </tbody>\n",
       "</table>\n",
       "<p>1309 rows × 27 columns</p>\n",
       "</div>"
      ],
      "text/plain": [
       "              Age      Fare  Sex  sibsp  zero  zero.1  zero.2  zero.3  zero.4  \\\n",
       "Passengerid                                                                     \n",
       "1            22.0    7.2500    0      1     0       0       0       0       0   \n",
       "2            38.0   71.2833    1      1     0       0       0       0       0   \n",
       "3            26.0    7.9250    1      0     0       0       0       0       0   \n",
       "4            35.0   53.1000    1      1     0       0       0       0       0   \n",
       "5            35.0    8.0500    0      0     0       0       0       0       0   \n",
       "...           ...       ...  ...    ...   ...     ...     ...     ...     ...   \n",
       "1305         28.0    8.0500    0      0     0       0       0       0       0   \n",
       "1306         39.0  108.9000    1      0     0       0       0       0       0   \n",
       "1307         38.5    7.2500    0      0     0       0       0       0       0   \n",
       "1308         28.0    8.0500    0      0     0       0       0       0       0   \n",
       "1309         28.0   22.3583    0      1     0       0       0       0       0   \n",
       "\n",
       "             zero.5  ...  zero.12  zero.13  zero.14  Pclass  zero.15  zero.16  \\\n",
       "Passengerid          ...                                                        \n",
       "1                 0  ...        0        0        0       3        0        0   \n",
       "2                 0  ...        0        0        0       1        0        0   \n",
       "3                 0  ...        0        0        0       3        0        0   \n",
       "4                 0  ...        0        0        0       1        0        0   \n",
       "5                 0  ...        0        0        0       3        0        0   \n",
       "...             ...  ...      ...      ...      ...     ...      ...      ...   \n",
       "1305              0  ...        0        0        0       3        0        0   \n",
       "1306              0  ...        0        0        0       1        0        0   \n",
       "1307              0  ...        0        0        0       3        0        0   \n",
       "1308              0  ...        0        0        0       3        0        0   \n",
       "1309              0  ...        0        0        0       3        0        0   \n",
       "\n",
       "             Embarked  zero.17  zero.18  2urvived  \n",
       "Passengerid                                        \n",
       "1                 2.0        0        0         0  \n",
       "2                 0.0        0        0         1  \n",
       "3                 2.0        0        0         1  \n",
       "4                 2.0        0        0         1  \n",
       "5                 2.0        0        0         0  \n",
       "...               ...      ...      ...       ...  \n",
       "1305              2.0        0        0         0  \n",
       "1306              0.0        0        0         0  \n",
       "1307              2.0        0        0         0  \n",
       "1308              2.0        0        0         0  \n",
       "1309              0.0        0        0         0  \n",
       "\n",
       "[1309 rows x 27 columns]"
      ]
     },
     "execution_count": 2,
     "metadata": {},
     "output_type": "execute_result"
    }
   ],
   "source": [
    "raw_data = pd.read_csv(\"/kaggle/input/titanic/train_and_test2.csv\", index_col = \"Passengerid\")\n",
    "raw_data"
   ]
  },
  {
   "cell_type": "code",
   "execution_count": 3,
   "id": "002d0795",
   "metadata": {
    "execution": {
     "iopub.execute_input": "2024-03-15T18:48:17.039472Z",
     "iopub.status.busy": "2024-03-15T18:48:17.039228Z",
     "iopub.status.idle": "2024-03-15T18:48:17.044724Z",
     "shell.execute_reply": "2024-03-15T18:48:17.044007Z"
    },
    "papermill": {
     "duration": 0.020161,
     "end_time": "2024-03-15T18:48:17.046611",
     "exception": false,
     "start_time": "2024-03-15T18:48:17.026450",
     "status": "completed"
    },
    "tags": []
   },
   "outputs": [
    {
     "data": {
      "text/plain": [
       "Index(['Age', 'Fare', 'Sex', 'sibsp', 'zero', 'zero.1', 'zero.2', 'zero.3',\n",
       "       'zero.4', 'zero.5', 'zero.6', 'Parch', 'zero.7', 'zero.8', 'zero.9',\n",
       "       'zero.10', 'zero.11', 'zero.12', 'zero.13', 'zero.14', 'Pclass',\n",
       "       'zero.15', 'zero.16', 'Embarked', 'zero.17', 'zero.18', '2urvived'],\n",
       "      dtype='object')"
      ]
     },
     "execution_count": 3,
     "metadata": {},
     "output_type": "execute_result"
    }
   ],
   "source": [
    "raw_data.columns"
   ]
  },
  {
   "cell_type": "code",
   "execution_count": 4,
   "id": "0b805c07",
   "metadata": {
    "execution": {
     "iopub.execute_input": "2024-03-15T18:48:17.072972Z",
     "iopub.status.busy": "2024-03-15T18:48:17.072687Z",
     "iopub.status.idle": "2024-03-15T18:48:17.081035Z",
     "shell.execute_reply": "2024-03-15T18:48:17.080225Z"
    },
    "papermill": {
     "duration": 0.023892,
     "end_time": "2024-03-15T18:48:17.082933",
     "exception": false,
     "start_time": "2024-03-15T18:48:17.059041",
     "status": "completed"
    },
    "tags": []
   },
   "outputs": [
    {
     "data": {
      "text/plain": [
       "Passengerid\n",
       "1       0\n",
       "2       0\n",
       "3       0\n",
       "4       0\n",
       "5       0\n",
       "       ..\n",
       "1305    0\n",
       "1306    0\n",
       "1307    0\n",
       "1308    0\n",
       "1309    0\n",
       "Name: zero.6, Length: 1309, dtype: int64"
      ]
     },
     "execution_count": 4,
     "metadata": {},
     "output_type": "execute_result"
    }
   ],
   "source": [
    "raw_data[\"zero.6\"]"
   ]
  },
  {
   "cell_type": "code",
   "execution_count": 5,
   "id": "1fe8a1f0",
   "metadata": {
    "execution": {
     "iopub.execute_input": "2024-03-15T18:48:17.108656Z",
     "iopub.status.busy": "2024-03-15T18:48:17.108397Z",
     "iopub.status.idle": "2024-03-15T18:48:17.131639Z",
     "shell.execute_reply": "2024-03-15T18:48:17.130844Z"
    },
    "papermill": {
     "duration": 0.038494,
     "end_time": "2024-03-15T18:48:17.133621",
     "exception": false,
     "start_time": "2024-03-15T18:48:17.095127",
     "status": "completed"
    },
    "tags": []
   },
   "outputs": [
    {
     "data": {
      "text/html": [
       "<div>\n",
       "<style scoped>\n",
       "    .dataframe tbody tr th:only-of-type {\n",
       "        vertical-align: middle;\n",
       "    }\n",
       "\n",
       "    .dataframe tbody tr th {\n",
       "        vertical-align: top;\n",
       "    }\n",
       "\n",
       "    .dataframe thead th {\n",
       "        text-align: right;\n",
       "    }\n",
       "</style>\n",
       "<table border=\"1\" class=\"dataframe\">\n",
       "  <thead>\n",
       "    <tr style=\"text-align: right;\">\n",
       "      <th></th>\n",
       "      <th>Age</th>\n",
       "      <th>Fare</th>\n",
       "      <th>Sex</th>\n",
       "      <th>sibsp</th>\n",
       "      <th>zero</th>\n",
       "      <th>zero.1</th>\n",
       "      <th>zero.2</th>\n",
       "      <th>zero.3</th>\n",
       "      <th>zero.4</th>\n",
       "      <th>zero.5</th>\n",
       "      <th>...</th>\n",
       "      <th>zero.12</th>\n",
       "      <th>zero.13</th>\n",
       "      <th>zero.14</th>\n",
       "      <th>Pclass</th>\n",
       "      <th>zero.15</th>\n",
       "      <th>zero.16</th>\n",
       "      <th>Embarked</th>\n",
       "      <th>zero.17</th>\n",
       "      <th>zero.18</th>\n",
       "      <th>2urvived</th>\n",
       "    </tr>\n",
       "    <tr>\n",
       "      <th>Passengerid</th>\n",
       "      <th></th>\n",
       "      <th></th>\n",
       "      <th></th>\n",
       "      <th></th>\n",
       "      <th></th>\n",
       "      <th></th>\n",
       "      <th></th>\n",
       "      <th></th>\n",
       "      <th></th>\n",
       "      <th></th>\n",
       "      <th></th>\n",
       "      <th></th>\n",
       "      <th></th>\n",
       "      <th></th>\n",
       "      <th></th>\n",
       "      <th></th>\n",
       "      <th></th>\n",
       "      <th></th>\n",
       "      <th></th>\n",
       "      <th></th>\n",
       "      <th></th>\n",
       "    </tr>\n",
       "  </thead>\n",
       "  <tbody>\n",
       "    <tr>\n",
       "      <th>1</th>\n",
       "      <td>22.0</td>\n",
       "      <td>7.2500</td>\n",
       "      <td>0</td>\n",
       "      <td>1</td>\n",
       "      <td>0</td>\n",
       "      <td>0</td>\n",
       "      <td>0</td>\n",
       "      <td>0</td>\n",
       "      <td>0</td>\n",
       "      <td>0</td>\n",
       "      <td>...</td>\n",
       "      <td>0</td>\n",
       "      <td>0</td>\n",
       "      <td>0</td>\n",
       "      <td>3</td>\n",
       "      <td>0</td>\n",
       "      <td>0</td>\n",
       "      <td>2.0</td>\n",
       "      <td>0</td>\n",
       "      <td>0</td>\n",
       "      <td>0</td>\n",
       "    </tr>\n",
       "    <tr>\n",
       "      <th>2</th>\n",
       "      <td>38.0</td>\n",
       "      <td>71.2833</td>\n",
       "      <td>1</td>\n",
       "      <td>1</td>\n",
       "      <td>0</td>\n",
       "      <td>0</td>\n",
       "      <td>0</td>\n",
       "      <td>0</td>\n",
       "      <td>0</td>\n",
       "      <td>0</td>\n",
       "      <td>...</td>\n",
       "      <td>0</td>\n",
       "      <td>0</td>\n",
       "      <td>0</td>\n",
       "      <td>1</td>\n",
       "      <td>0</td>\n",
       "      <td>0</td>\n",
       "      <td>0.0</td>\n",
       "      <td>0</td>\n",
       "      <td>0</td>\n",
       "      <td>1</td>\n",
       "    </tr>\n",
       "    <tr>\n",
       "      <th>3</th>\n",
       "      <td>26.0</td>\n",
       "      <td>7.9250</td>\n",
       "      <td>1</td>\n",
       "      <td>0</td>\n",
       "      <td>0</td>\n",
       "      <td>0</td>\n",
       "      <td>0</td>\n",
       "      <td>0</td>\n",
       "      <td>0</td>\n",
       "      <td>0</td>\n",
       "      <td>...</td>\n",
       "      <td>0</td>\n",
       "      <td>0</td>\n",
       "      <td>0</td>\n",
       "      <td>3</td>\n",
       "      <td>0</td>\n",
       "      <td>0</td>\n",
       "      <td>2.0</td>\n",
       "      <td>0</td>\n",
       "      <td>0</td>\n",
       "      <td>1</td>\n",
       "    </tr>\n",
       "    <tr>\n",
       "      <th>4</th>\n",
       "      <td>35.0</td>\n",
       "      <td>53.1000</td>\n",
       "      <td>1</td>\n",
       "      <td>1</td>\n",
       "      <td>0</td>\n",
       "      <td>0</td>\n",
       "      <td>0</td>\n",
       "      <td>0</td>\n",
       "      <td>0</td>\n",
       "      <td>0</td>\n",
       "      <td>...</td>\n",
       "      <td>0</td>\n",
       "      <td>0</td>\n",
       "      <td>0</td>\n",
       "      <td>1</td>\n",
       "      <td>0</td>\n",
       "      <td>0</td>\n",
       "      <td>2.0</td>\n",
       "      <td>0</td>\n",
       "      <td>0</td>\n",
       "      <td>1</td>\n",
       "    </tr>\n",
       "    <tr>\n",
       "      <th>5</th>\n",
       "      <td>35.0</td>\n",
       "      <td>8.0500</td>\n",
       "      <td>0</td>\n",
       "      <td>0</td>\n",
       "      <td>0</td>\n",
       "      <td>0</td>\n",
       "      <td>0</td>\n",
       "      <td>0</td>\n",
       "      <td>0</td>\n",
       "      <td>0</td>\n",
       "      <td>...</td>\n",
       "      <td>0</td>\n",
       "      <td>0</td>\n",
       "      <td>0</td>\n",
       "      <td>3</td>\n",
       "      <td>0</td>\n",
       "      <td>0</td>\n",
       "      <td>2.0</td>\n",
       "      <td>0</td>\n",
       "      <td>0</td>\n",
       "      <td>0</td>\n",
       "    </tr>\n",
       "    <tr>\n",
       "      <th>...</th>\n",
       "      <td>...</td>\n",
       "      <td>...</td>\n",
       "      <td>...</td>\n",
       "      <td>...</td>\n",
       "      <td>...</td>\n",
       "      <td>...</td>\n",
       "      <td>...</td>\n",
       "      <td>...</td>\n",
       "      <td>...</td>\n",
       "      <td>...</td>\n",
       "      <td>...</td>\n",
       "      <td>...</td>\n",
       "      <td>...</td>\n",
       "      <td>...</td>\n",
       "      <td>...</td>\n",
       "      <td>...</td>\n",
       "      <td>...</td>\n",
       "      <td>...</td>\n",
       "      <td>...</td>\n",
       "      <td>...</td>\n",
       "      <td>...</td>\n",
       "    </tr>\n",
       "    <tr>\n",
       "      <th>1305</th>\n",
       "      <td>28.0</td>\n",
       "      <td>8.0500</td>\n",
       "      <td>0</td>\n",
       "      <td>0</td>\n",
       "      <td>0</td>\n",
       "      <td>0</td>\n",
       "      <td>0</td>\n",
       "      <td>0</td>\n",
       "      <td>0</td>\n",
       "      <td>0</td>\n",
       "      <td>...</td>\n",
       "      <td>0</td>\n",
       "      <td>0</td>\n",
       "      <td>0</td>\n",
       "      <td>3</td>\n",
       "      <td>0</td>\n",
       "      <td>0</td>\n",
       "      <td>2.0</td>\n",
       "      <td>0</td>\n",
       "      <td>0</td>\n",
       "      <td>0</td>\n",
       "    </tr>\n",
       "    <tr>\n",
       "      <th>1306</th>\n",
       "      <td>39.0</td>\n",
       "      <td>108.9000</td>\n",
       "      <td>1</td>\n",
       "      <td>0</td>\n",
       "      <td>0</td>\n",
       "      <td>0</td>\n",
       "      <td>0</td>\n",
       "      <td>0</td>\n",
       "      <td>0</td>\n",
       "      <td>0</td>\n",
       "      <td>...</td>\n",
       "      <td>0</td>\n",
       "      <td>0</td>\n",
       "      <td>0</td>\n",
       "      <td>1</td>\n",
       "      <td>0</td>\n",
       "      <td>0</td>\n",
       "      <td>0.0</td>\n",
       "      <td>0</td>\n",
       "      <td>0</td>\n",
       "      <td>0</td>\n",
       "    </tr>\n",
       "    <tr>\n",
       "      <th>1307</th>\n",
       "      <td>38.5</td>\n",
       "      <td>7.2500</td>\n",
       "      <td>0</td>\n",
       "      <td>0</td>\n",
       "      <td>0</td>\n",
       "      <td>0</td>\n",
       "      <td>0</td>\n",
       "      <td>0</td>\n",
       "      <td>0</td>\n",
       "      <td>0</td>\n",
       "      <td>...</td>\n",
       "      <td>0</td>\n",
       "      <td>0</td>\n",
       "      <td>0</td>\n",
       "      <td>3</td>\n",
       "      <td>0</td>\n",
       "      <td>0</td>\n",
       "      <td>2.0</td>\n",
       "      <td>0</td>\n",
       "      <td>0</td>\n",
       "      <td>0</td>\n",
       "    </tr>\n",
       "    <tr>\n",
       "      <th>1308</th>\n",
       "      <td>28.0</td>\n",
       "      <td>8.0500</td>\n",
       "      <td>0</td>\n",
       "      <td>0</td>\n",
       "      <td>0</td>\n",
       "      <td>0</td>\n",
       "      <td>0</td>\n",
       "      <td>0</td>\n",
       "      <td>0</td>\n",
       "      <td>0</td>\n",
       "      <td>...</td>\n",
       "      <td>0</td>\n",
       "      <td>0</td>\n",
       "      <td>0</td>\n",
       "      <td>3</td>\n",
       "      <td>0</td>\n",
       "      <td>0</td>\n",
       "      <td>2.0</td>\n",
       "      <td>0</td>\n",
       "      <td>0</td>\n",
       "      <td>0</td>\n",
       "    </tr>\n",
       "    <tr>\n",
       "      <th>1309</th>\n",
       "      <td>28.0</td>\n",
       "      <td>22.3583</td>\n",
       "      <td>0</td>\n",
       "      <td>1</td>\n",
       "      <td>0</td>\n",
       "      <td>0</td>\n",
       "      <td>0</td>\n",
       "      <td>0</td>\n",
       "      <td>0</td>\n",
       "      <td>0</td>\n",
       "      <td>...</td>\n",
       "      <td>0</td>\n",
       "      <td>0</td>\n",
       "      <td>0</td>\n",
       "      <td>3</td>\n",
       "      <td>0</td>\n",
       "      <td>0</td>\n",
       "      <td>0.0</td>\n",
       "      <td>0</td>\n",
       "      <td>0</td>\n",
       "      <td>0</td>\n",
       "    </tr>\n",
       "  </tbody>\n",
       "</table>\n",
       "<p>1309 rows × 27 columns</p>\n",
       "</div>"
      ],
      "text/plain": [
       "              Age      Fare  Sex  sibsp  zero  zero.1  zero.2  zero.3  zero.4  \\\n",
       "Passengerid                                                                     \n",
       "1            22.0    7.2500    0      1     0       0       0       0       0   \n",
       "2            38.0   71.2833    1      1     0       0       0       0       0   \n",
       "3            26.0    7.9250    1      0     0       0       0       0       0   \n",
       "4            35.0   53.1000    1      1     0       0       0       0       0   \n",
       "5            35.0    8.0500    0      0     0       0       0       0       0   \n",
       "...           ...       ...  ...    ...   ...     ...     ...     ...     ...   \n",
       "1305         28.0    8.0500    0      0     0       0       0       0       0   \n",
       "1306         39.0  108.9000    1      0     0       0       0       0       0   \n",
       "1307         38.5    7.2500    0      0     0       0       0       0       0   \n",
       "1308         28.0    8.0500    0      0     0       0       0       0       0   \n",
       "1309         28.0   22.3583    0      1     0       0       0       0       0   \n",
       "\n",
       "             zero.5  ...  zero.12  zero.13  zero.14  Pclass  zero.15  zero.16  \\\n",
       "Passengerid          ...                                                        \n",
       "1                 0  ...        0        0        0       3        0        0   \n",
       "2                 0  ...        0        0        0       1        0        0   \n",
       "3                 0  ...        0        0        0       3        0        0   \n",
       "4                 0  ...        0        0        0       1        0        0   \n",
       "5                 0  ...        0        0        0       3        0        0   \n",
       "...             ...  ...      ...      ...      ...     ...      ...      ...   \n",
       "1305              0  ...        0        0        0       3        0        0   \n",
       "1306              0  ...        0        0        0       1        0        0   \n",
       "1307              0  ...        0        0        0       3        0        0   \n",
       "1308              0  ...        0        0        0       3        0        0   \n",
       "1309              0  ...        0        0        0       3        0        0   \n",
       "\n",
       "             Embarked  zero.17  zero.18  2urvived  \n",
       "Passengerid                                        \n",
       "1                 2.0        0        0         0  \n",
       "2                 0.0        0        0         1  \n",
       "3                 2.0        0        0         1  \n",
       "4                 2.0        0        0         1  \n",
       "5                 2.0        0        0         0  \n",
       "...               ...      ...      ...       ...  \n",
       "1305              2.0        0        0         0  \n",
       "1306              0.0        0        0         0  \n",
       "1307              2.0        0        0         0  \n",
       "1308              2.0        0        0         0  \n",
       "1309              0.0        0        0         0  \n",
       "\n",
       "[1309 rows x 27 columns]"
      ]
     },
     "execution_count": 5,
     "metadata": {},
     "output_type": "execute_result"
    }
   ],
   "source": [
    "pd.DataFrame(raw_data)"
   ]
  },
  {
   "cell_type": "markdown",
   "id": "bc111224",
   "metadata": {
    "papermill": {
     "duration": 0.01259,
     "end_time": "2024-03-15T18:48:17.159886",
     "exception": false,
     "start_time": "2024-03-15T18:48:17.147296",
     "status": "completed"
    },
    "tags": []
   },
   "source": [
    "# Cleaning up data"
   ]
  },
  {
   "cell_type": "markdown",
   "id": "24cb77a0",
   "metadata": {
    "papermill": {
     "duration": 0.012406,
     "end_time": "2024-03-15T18:48:17.186280",
     "exception": false,
     "start_time": "2024-03-15T18:48:17.173874",
     "status": "completed"
    },
    "tags": []
   },
   "source": []
  },
  {
   "cell_type": "code",
   "execution_count": 6,
   "id": "74b25504",
   "metadata": {
    "execution": {
     "iopub.execute_input": "2024-03-15T18:48:17.212498Z",
     "iopub.status.busy": "2024-03-15T18:48:17.212056Z",
     "iopub.status.idle": "2024-03-15T18:48:17.217036Z",
     "shell.execute_reply": "2024-03-15T18:48:17.216107Z"
    },
    "papermill": {
     "duration": 0.020484,
     "end_time": "2024-03-15T18:48:17.219241",
     "exception": false,
     "start_time": "2024-03-15T18:48:17.198757",
     "status": "completed"
    },
    "tags": []
   },
   "outputs": [],
   "source": [
    "columns_to_remove = [f'zero.{i}' for i in range(1, 19)]\n",
    "\n",
    "# remove some columns\n",
    "raw_data = raw_data.drop(columns=columns_to_remove)\n"
   ]
  },
  {
   "cell_type": "code",
   "execution_count": 7,
   "id": "4d6a902e",
   "metadata": {
    "execution": {
     "iopub.execute_input": "2024-03-15T18:48:17.247003Z",
     "iopub.status.busy": "2024-03-15T18:48:17.246740Z",
     "iopub.status.idle": "2024-03-15T18:48:17.252379Z",
     "shell.execute_reply": "2024-03-15T18:48:17.251531Z"
    },
    "papermill": {
     "duration": 0.021059,
     "end_time": "2024-03-15T18:48:17.254251",
     "exception": false,
     "start_time": "2024-03-15T18:48:17.233192",
     "status": "completed"
    },
    "tags": []
   },
   "outputs": [
    {
     "data": {
      "text/plain": [
       "342"
      ]
     },
     "execution_count": 7,
     "metadata": {},
     "output_type": "execute_result"
    }
   ],
   "source": [
    "sum(raw_data['2urvived'])"
   ]
  },
  {
   "cell_type": "markdown",
   "id": "1fffe963",
   "metadata": {
    "papermill": {
     "duration": 0.012651,
     "end_time": "2024-03-15T18:48:17.279662",
     "exception": false,
     "start_time": "2024-03-15T18:48:17.267011",
     "status": "completed"
    },
    "tags": []
   },
   "source": []
  },
  {
   "cell_type": "code",
   "execution_count": 8,
   "id": "2910b728",
   "metadata": {
    "execution": {
     "iopub.execute_input": "2024-03-15T18:48:17.306270Z",
     "iopub.status.busy": "2024-03-15T18:48:17.305727Z",
     "iopub.status.idle": "2024-03-15T18:48:17.313591Z",
     "shell.execute_reply": "2024-03-15T18:48:17.312749Z"
    },
    "papermill": {
     "duration": 0.023093,
     "end_time": "2024-03-15T18:48:17.315443",
     "exception": false,
     "start_time": "2024-03-15T18:48:17.292350",
     "status": "completed"
    },
    "tags": []
   },
   "outputs": [
    {
     "data": {
      "text/plain": [
       "Age         0\n",
       "Fare        0\n",
       "Sex         0\n",
       "sibsp       0\n",
       "zero        0\n",
       "Parch       0\n",
       "Pclass      0\n",
       "Embarked    2\n",
       "2urvived    0\n",
       "dtype: int64"
      ]
     },
     "execution_count": 8,
     "metadata": {},
     "output_type": "execute_result"
    }
   ],
   "source": [
    "raw_data.isna().sum()"
   ]
  },
  {
   "cell_type": "markdown",
   "id": "dbfad54d",
   "metadata": {
    "papermill": {
     "duration": 0.013981,
     "end_time": "2024-03-15T18:48:17.342782",
     "exception": false,
     "start_time": "2024-03-15T18:48:17.328801",
     "status": "completed"
    },
    "tags": []
   },
   "source": [
    "if data has some positions which missed value, you can use median():"
   ]
  },
  {
   "cell_type": "code",
   "execution_count": 9,
   "id": "2f1fd64b",
   "metadata": {
    "execution": {
     "iopub.execute_input": "2024-03-15T18:48:17.369243Z",
     "iopub.status.busy": "2024-03-15T18:48:17.368999Z",
     "iopub.status.idle": "2024-03-15T18:48:17.379700Z",
     "shell.execute_reply": "2024-03-15T18:48:17.378856Z"
    },
    "papermill": {
     "duration": 0.026112,
     "end_time": "2024-03-15T18:48:17.381641",
     "exception": false,
     "start_time": "2024-03-15T18:48:17.355529",
     "status": "completed"
    },
    "tags": []
   },
   "outputs": [
    {
     "data": {
      "text/plain": [
       "Age         0\n",
       "Fare        0\n",
       "Sex         0\n",
       "sibsp       0\n",
       "zero        0\n",
       "Parch       0\n",
       "Pclass      0\n",
       "Embarked    0\n",
       "2urvived    0\n",
       "dtype: int64"
      ]
     },
     "execution_count": 9,
     "metadata": {},
     "output_type": "execute_result"
    }
   ],
   "source": [
    "#Example\n",
    "median_embarked = raw_data['Embarked'].median()\n",
    "raw_data['Embarked'] = raw_data['Embarked'].fillna(median_embarked)\n",
    "raw_data.isna().sum()"
   ]
  },
  {
   "cell_type": "markdown",
   "id": "b0b0862a",
   "metadata": {
    "papermill": {
     "duration": 0.012902,
     "end_time": "2024-03-15T18:48:17.408311",
     "exception": false,
     "start_time": "2024-03-15T18:48:17.395409",
     "status": "completed"
    },
    "tags": []
   },
   "source": [
    "# Feature engineering"
   ]
  },
  {
   "cell_type": "markdown",
   "id": "47683a9d",
   "metadata": {
    "papermill": {
     "duration": 0.012675,
     "end_time": "2024-03-15T18:48:17.434169",
     "exception": false,
     "start_time": "2024-03-15T18:48:17.421494",
     "status": "completed"
    },
    "tags": []
   },
   "source": []
  },
  {
   "cell_type": "markdown",
   "id": "068184f3",
   "metadata": {
    "papermill": {
     "duration": 0.012651,
     "end_time": "2024-03-15T18:48:17.460146",
     "exception": false,
     "start_time": "2024-03-15T18:48:17.447495",
     "status": "completed"
    },
    "tags": []
   },
   "source": [
    "# Turning numerical data into categorical data(and why would we want to do this) : Binning"
   ]
  },
  {
   "cell_type": "markdown",
   "id": "a41cf1b2",
   "metadata": {
    "papermill": {
     "duration": 0.012723,
     "end_time": "2024-03-15T18:48:17.485801",
     "exception": false,
     "start_time": "2024-03-15T18:48:17.473078",
     "status": "completed"
    },
    "tags": []
   },
   "source": [
    "it is not true that increasing (or decreasing) the Pclass automatically improves the chances of survival. For this reason, I suggest one-hot encoding this feature as follows:"
   ]
  },
  {
   "cell_type": "code",
   "execution_count": 10,
   "id": "9139f2ef",
   "metadata": {
    "execution": {
     "iopub.execute_input": "2024-03-15T18:48:17.512966Z",
     "iopub.status.busy": "2024-03-15T18:48:17.512695Z",
     "iopub.status.idle": "2024-03-15T18:48:17.518081Z",
     "shell.execute_reply": "2024-03-15T18:48:17.517268Z"
    },
    "papermill": {
     "duration": 0.02094,
     "end_time": "2024-03-15T18:48:17.519945",
     "exception": false,
     "start_time": "2024-03-15T18:48:17.499005",
     "status": "completed"
    },
    "tags": []
   },
   "outputs": [
    {
     "data": {
      "text/plain": [
       "Index(['Age', 'Fare', 'Sex', 'sibsp', 'zero', 'Parch', 'Pclass', 'Embarked',\n",
       "       '2urvived'],\n",
       "      dtype='object')"
      ]
     },
     "execution_count": 10,
     "metadata": {},
     "output_type": "execute_result"
    }
   ],
   "source": [
    "raw_data.columns"
   ]
  },
  {
   "cell_type": "code",
   "execution_count": 11,
   "id": "279027ca",
   "metadata": {
    "execution": {
     "iopub.execute_input": "2024-03-15T18:48:17.547092Z",
     "iopub.status.busy": "2024-03-15T18:48:17.546804Z",
     "iopub.status.idle": "2024-03-15T18:48:17.566866Z",
     "shell.execute_reply": "2024-03-15T18:48:17.566177Z"
    },
    "papermill": {
     "duration": 0.035682,
     "end_time": "2024-03-15T18:48:17.568691",
     "exception": false,
     "start_time": "2024-03-15T18:48:17.533009",
     "status": "completed"
    },
    "tags": []
   },
   "outputs": [],
   "source": [
    "bins = [0, 10, 20, 30, 40, 50, 60, 70, 80]\n",
    "categories_age = pd.cut(raw_data['Age'], bins)\n",
    "raw_data['categories'] = categories_age\n",
    "raw_data = raw_data.drop(['Age'], axis=1)\n",
    "\n"
   ]
  },
  {
   "cell_type": "code",
   "execution_count": 12,
   "id": "a9675afe",
   "metadata": {
    "execution": {
     "iopub.execute_input": "2024-03-15T18:48:17.596723Z",
     "iopub.status.busy": "2024-03-15T18:48:17.596391Z",
     "iopub.status.idle": "2024-03-15T18:48:17.608066Z",
     "shell.execute_reply": "2024-03-15T18:48:17.607350Z"
    },
    "papermill": {
     "duration": 0.027819,
     "end_time": "2024-03-15T18:48:17.609870",
     "exception": false,
     "start_time": "2024-03-15T18:48:17.582051",
     "status": "completed"
    },
    "tags": []
   },
   "outputs": [],
   "source": [
    "# use get_dummies function to one-hot encoding\n",
    "categorized_pclass_columns = pd.get_dummies(raw_data['Pclass'], prefix = 'Pclass').astype(int)\n",
    "\n",
    "#concatenates newly data\n",
    "raw_data = pd.concat([raw_data, categorized_pclass_columns], axis=1)\n",
    "raw_data= raw_data.drop(['Pclass'], axis=1)\n",
    "\n",
    "#Similar with categories\n",
    "categories_age_columns = pd.get_dummies(raw_data['categories'], prefix = 'categories').astype(int)\n",
    "raw_data = pd.concat([raw_data, categories_age_columns], axis=1)\n",
    "raw_data = raw_data.drop(['categories'],axis = 1)\n"
   ]
  },
  {
   "cell_type": "code",
   "execution_count": 13,
   "id": "72a4753c",
   "metadata": {
    "execution": {
     "iopub.execute_input": "2024-03-15T18:48:17.637584Z",
     "iopub.status.busy": "2024-03-15T18:48:17.637343Z",
     "iopub.status.idle": "2024-03-15T18:48:17.653915Z",
     "shell.execute_reply": "2024-03-15T18:48:17.653118Z"
    },
    "papermill": {
     "duration": 0.032906,
     "end_time": "2024-03-15T18:48:17.655863",
     "exception": false,
     "start_time": "2024-03-15T18:48:17.622957",
     "status": "completed"
    },
    "tags": []
   },
   "outputs": [
    {
     "data": {
      "text/html": [
       "<div>\n",
       "<style scoped>\n",
       "    .dataframe tbody tr th:only-of-type {\n",
       "        vertical-align: middle;\n",
       "    }\n",
       "\n",
       "    .dataframe tbody tr th {\n",
       "        vertical-align: top;\n",
       "    }\n",
       "\n",
       "    .dataframe thead th {\n",
       "        text-align: right;\n",
       "    }\n",
       "</style>\n",
       "<table border=\"1\" class=\"dataframe\">\n",
       "  <thead>\n",
       "    <tr style=\"text-align: right;\">\n",
       "      <th></th>\n",
       "      <th>Fare</th>\n",
       "      <th>Sex</th>\n",
       "      <th>sibsp</th>\n",
       "      <th>zero</th>\n",
       "      <th>Parch</th>\n",
       "      <th>Embarked</th>\n",
       "      <th>2urvived</th>\n",
       "      <th>Pclass_1</th>\n",
       "      <th>Pclass_2</th>\n",
       "      <th>Pclass_3</th>\n",
       "      <th>categories_(0, 10]</th>\n",
       "      <th>categories_(10, 20]</th>\n",
       "      <th>categories_(20, 30]</th>\n",
       "      <th>categories_(30, 40]</th>\n",
       "      <th>categories_(40, 50]</th>\n",
       "      <th>categories_(50, 60]</th>\n",
       "      <th>categories_(60, 70]</th>\n",
       "      <th>categories_(70, 80]</th>\n",
       "    </tr>\n",
       "    <tr>\n",
       "      <th>Passengerid</th>\n",
       "      <th></th>\n",
       "      <th></th>\n",
       "      <th></th>\n",
       "      <th></th>\n",
       "      <th></th>\n",
       "      <th></th>\n",
       "      <th></th>\n",
       "      <th></th>\n",
       "      <th></th>\n",
       "      <th></th>\n",
       "      <th></th>\n",
       "      <th></th>\n",
       "      <th></th>\n",
       "      <th></th>\n",
       "      <th></th>\n",
       "      <th></th>\n",
       "      <th></th>\n",
       "      <th></th>\n",
       "    </tr>\n",
       "  </thead>\n",
       "  <tbody>\n",
       "    <tr>\n",
       "      <th>1</th>\n",
       "      <td>7.2500</td>\n",
       "      <td>0</td>\n",
       "      <td>1</td>\n",
       "      <td>0</td>\n",
       "      <td>0</td>\n",
       "      <td>2.0</td>\n",
       "      <td>0</td>\n",
       "      <td>0</td>\n",
       "      <td>0</td>\n",
       "      <td>1</td>\n",
       "      <td>0</td>\n",
       "      <td>0</td>\n",
       "      <td>1</td>\n",
       "      <td>0</td>\n",
       "      <td>0</td>\n",
       "      <td>0</td>\n",
       "      <td>0</td>\n",
       "      <td>0</td>\n",
       "    </tr>\n",
       "    <tr>\n",
       "      <th>2</th>\n",
       "      <td>71.2833</td>\n",
       "      <td>1</td>\n",
       "      <td>1</td>\n",
       "      <td>0</td>\n",
       "      <td>0</td>\n",
       "      <td>0.0</td>\n",
       "      <td>1</td>\n",
       "      <td>1</td>\n",
       "      <td>0</td>\n",
       "      <td>0</td>\n",
       "      <td>0</td>\n",
       "      <td>0</td>\n",
       "      <td>0</td>\n",
       "      <td>1</td>\n",
       "      <td>0</td>\n",
       "      <td>0</td>\n",
       "      <td>0</td>\n",
       "      <td>0</td>\n",
       "    </tr>\n",
       "    <tr>\n",
       "      <th>3</th>\n",
       "      <td>7.9250</td>\n",
       "      <td>1</td>\n",
       "      <td>0</td>\n",
       "      <td>0</td>\n",
       "      <td>0</td>\n",
       "      <td>2.0</td>\n",
       "      <td>1</td>\n",
       "      <td>0</td>\n",
       "      <td>0</td>\n",
       "      <td>1</td>\n",
       "      <td>0</td>\n",
       "      <td>0</td>\n",
       "      <td>1</td>\n",
       "      <td>0</td>\n",
       "      <td>0</td>\n",
       "      <td>0</td>\n",
       "      <td>0</td>\n",
       "      <td>0</td>\n",
       "    </tr>\n",
       "    <tr>\n",
       "      <th>4</th>\n",
       "      <td>53.1000</td>\n",
       "      <td>1</td>\n",
       "      <td>1</td>\n",
       "      <td>0</td>\n",
       "      <td>0</td>\n",
       "      <td>2.0</td>\n",
       "      <td>1</td>\n",
       "      <td>1</td>\n",
       "      <td>0</td>\n",
       "      <td>0</td>\n",
       "      <td>0</td>\n",
       "      <td>0</td>\n",
       "      <td>0</td>\n",
       "      <td>1</td>\n",
       "      <td>0</td>\n",
       "      <td>0</td>\n",
       "      <td>0</td>\n",
       "      <td>0</td>\n",
       "    </tr>\n",
       "    <tr>\n",
       "      <th>5</th>\n",
       "      <td>8.0500</td>\n",
       "      <td>0</td>\n",
       "      <td>0</td>\n",
       "      <td>0</td>\n",
       "      <td>0</td>\n",
       "      <td>2.0</td>\n",
       "      <td>0</td>\n",
       "      <td>0</td>\n",
       "      <td>0</td>\n",
       "      <td>1</td>\n",
       "      <td>0</td>\n",
       "      <td>0</td>\n",
       "      <td>0</td>\n",
       "      <td>1</td>\n",
       "      <td>0</td>\n",
       "      <td>0</td>\n",
       "      <td>0</td>\n",
       "      <td>0</td>\n",
       "    </tr>\n",
       "  </tbody>\n",
       "</table>\n",
       "</div>"
      ],
      "text/plain": [
       "                Fare  Sex  sibsp  zero  Parch  Embarked  2urvived  Pclass_1  \\\n",
       "Passengerid                                                                   \n",
       "1             7.2500    0      1     0      0       2.0         0         0   \n",
       "2            71.2833    1      1     0      0       0.0         1         1   \n",
       "3             7.9250    1      0     0      0       2.0         1         0   \n",
       "4            53.1000    1      1     0      0       2.0         1         1   \n",
       "5             8.0500    0      0     0      0       2.0         0         0   \n",
       "\n",
       "             Pclass_2  Pclass_3  categories_(0, 10]  categories_(10, 20]  \\\n",
       "Passengerid                                                                \n",
       "1                   0         1                   0                    0   \n",
       "2                   0         0                   0                    0   \n",
       "3                   0         1                   0                    0   \n",
       "4                   0         0                   0                    0   \n",
       "5                   0         1                   0                    0   \n",
       "\n",
       "             categories_(20, 30]  categories_(30, 40]  categories_(40, 50]  \\\n",
       "Passengerid                                                                  \n",
       "1                              1                    0                    0   \n",
       "2                              0                    1                    0   \n",
       "3                              1                    0                    0   \n",
       "4                              0                    1                    0   \n",
       "5                              0                    1                    0   \n",
       "\n",
       "             categories_(50, 60]  categories_(60, 70]  categories_(70, 80]  \n",
       "Passengerid                                                                 \n",
       "1                              0                    0                    0  \n",
       "2                              0                    0                    0  \n",
       "3                              0                    0                    0  \n",
       "4                              0                    0                    0  \n",
       "5                              0                    0                    0  "
      ]
     },
     "execution_count": 13,
     "metadata": {},
     "output_type": "execute_result"
    }
   ],
   "source": [
    "raw_data.head()"
   ]
  },
  {
   "cell_type": "markdown",
   "id": "c674228a",
   "metadata": {
    "papermill": {
     "duration": 0.013205,
     "end_time": "2024-03-15T18:48:17.682614",
     "exception": false,
     "start_time": "2024-03-15T18:48:17.669409",
     "status": "completed"
    },
    "tags": []
   },
   "source": [
    "# Feature selection and train model\n"
   ]
  },
  {
   "cell_type": "code",
   "execution_count": 14,
   "id": "44a94f12",
   "metadata": {
    "execution": {
     "iopub.execute_input": "2024-03-15T18:48:17.747286Z",
     "iopub.status.busy": "2024-03-15T18:48:17.746985Z",
     "iopub.status.idle": "2024-03-15T18:48:17.758950Z",
     "shell.execute_reply": "2024-03-15T18:48:17.758066Z"
    },
    "papermill": {
     "duration": 0.028309,
     "end_time": "2024-03-15T18:48:17.760907",
     "exception": false,
     "start_time": "2024-03-15T18:48:17.732598",
     "status": "completed"
    },
    "tags": []
   },
   "outputs": [
    {
     "data": {
      "text/plain": [
       "2urvived\n",
       "0    967\n",
       "1    342\n",
       "Name: count, dtype: int64"
      ]
     },
     "execution_count": 14,
     "metadata": {},
     "output_type": "execute_result"
    }
   ],
   "source": [
    "raw_data['2urvived'].value_counts()\n"
   ]
  },
  {
   "cell_type": "markdown",
   "id": "b99397d9",
   "metadata": {
    "papermill": {
     "duration": 0.013559,
     "end_time": "2024-03-15T18:48:17.788161",
     "exception": false,
     "start_time": "2024-03-15T18:48:17.774602",
     "status": "completed"
    },
    "tags": []
   },
   "source": [
    "Actually, data is imbalanced. Let's process it! Go on\n"
   ]
  },
  {
   "cell_type": "code",
   "execution_count": 15,
   "id": "f82f6484",
   "metadata": {
    "execution": {
     "iopub.execute_input": "2024-03-15T18:48:17.816512Z",
     "iopub.status.busy": "2024-03-15T18:48:17.815920Z",
     "iopub.status.idle": "2024-03-15T18:48:17.821066Z",
     "shell.execute_reply": "2024-03-15T18:48:17.820325Z"
    },
    "papermill": {
     "duration": 0.021541,
     "end_time": "2024-03-15T18:48:17.823153",
     "exception": false,
     "start_time": "2024-03-15T18:48:17.801612",
     "status": "completed"
    },
    "tags": []
   },
   "outputs": [],
   "source": [
    "feature_old = raw_data.drop(['2urvived'], axis = 1)\n",
    "label_old = raw_data['2urvived']"
   ]
  },
  {
   "cell_type": "code",
   "execution_count": 16,
   "id": "9e97b41c",
   "metadata": {
    "execution": {
     "iopub.execute_input": "2024-03-15T18:48:17.853311Z",
     "iopub.status.busy": "2024-03-15T18:48:17.853049Z",
     "iopub.status.idle": "2024-03-15T18:48:20.803454Z",
     "shell.execute_reply": "2024-03-15T18:48:20.802484Z"
    },
    "papermill": {
     "duration": 2.969002,
     "end_time": "2024-03-15T18:48:20.806035",
     "exception": false,
     "start_time": "2024-03-15T18:48:17.837033",
     "status": "completed"
    },
    "tags": []
   },
   "outputs": [
    {
     "data": {
      "text/plain": [
       "2urvived\n",
       "0    967\n",
       "1    967\n",
       "Name: count, dtype: int64"
      ]
     },
     "execution_count": 16,
     "metadata": {},
     "output_type": "execute_result"
    }
   ],
   "source": [
    "from imblearn.over_sampling import SMOTE\n",
    "\n",
    "#Initial SMOTE\n",
    "smote = SMOTE(random_state=42)\n",
    "features, labels = smote.fit_resample(feature_old, label_old)\n",
    "labels.value_counts()"
   ]
  },
  {
   "cell_type": "code",
   "execution_count": 17,
   "id": "2f217fdb",
   "metadata": {
    "execution": {
     "iopub.execute_input": "2024-03-15T18:48:20.838224Z",
     "iopub.status.busy": "2024-03-15T18:48:20.837867Z",
     "iopub.status.idle": "2024-03-15T18:48:20.847334Z",
     "shell.execute_reply": "2024-03-15T18:48:20.846605Z"
    },
    "papermill": {
     "duration": 0.027314,
     "end_time": "2024-03-15T18:48:20.849401",
     "exception": false,
     "start_time": "2024-03-15T18:48:20.822087",
     "status": "completed"
    },
    "tags": []
   },
   "outputs": [],
   "source": [
    "#Split data\n",
    "from sklearn.model_selection import train_test_split\n",
    "features_train, features_test, labels_train, labels_test= train_test_split(features, labels,test_size = 0.2)\n",
    "# split train into train and validation\n",
    "features_train, features_valid, labels_train, labels_valid = train_test_split(features_train, labels_train, test_size = 0.16)\n",
    "\n",
    "                                                                        \n"
   ]
  },
  {
   "cell_type": "markdown",
   "id": "5a31ca2c",
   "metadata": {
    "papermill": {
     "duration": 0.014068,
     "end_time": "2024-03-15T18:48:20.877764",
     "exception": false,
     "start_time": "2024-03-15T18:48:20.863696",
     "status": "completed"
    },
    "tags": []
   },
   "source": [
    "Train model with diffirent algorithms and evaluate "
   ]
  },
  {
   "cell_type": "code",
   "execution_count": 18,
   "id": "b703bf11",
   "metadata": {
    "execution": {
     "iopub.execute_input": "2024-03-15T18:48:20.906857Z",
     "iopub.status.busy": "2024-03-15T18:48:20.906545Z",
     "iopub.status.idle": "2024-03-15T18:48:21.302945Z",
     "shell.execute_reply": "2024-03-15T18:48:21.302106Z"
    },
    "papermill": {
     "duration": 0.413304,
     "end_time": "2024-03-15T18:48:21.305016",
     "exception": false,
     "start_time": "2024-03-15T18:48:20.891712",
     "status": "completed"
    },
    "tags": []
   },
   "outputs": [
    {
     "data": {
      "text/html": [
       "<style>#sk-container-id-1 {color: black;background-color: white;}#sk-container-id-1 pre{padding: 0;}#sk-container-id-1 div.sk-toggleable {background-color: white;}#sk-container-id-1 label.sk-toggleable__label {cursor: pointer;display: block;width: 100%;margin-bottom: 0;padding: 0.3em;box-sizing: border-box;text-align: center;}#sk-container-id-1 label.sk-toggleable__label-arrow:before {content: \"▸\";float: left;margin-right: 0.25em;color: #696969;}#sk-container-id-1 label.sk-toggleable__label-arrow:hover:before {color: black;}#sk-container-id-1 div.sk-estimator:hover label.sk-toggleable__label-arrow:before {color: black;}#sk-container-id-1 div.sk-toggleable__content {max-height: 0;max-width: 0;overflow: hidden;text-align: left;background-color: #f0f8ff;}#sk-container-id-1 div.sk-toggleable__content pre {margin: 0.2em;color: black;border-radius: 0.25em;background-color: #f0f8ff;}#sk-container-id-1 input.sk-toggleable__control:checked~div.sk-toggleable__content {max-height: 200px;max-width: 100%;overflow: auto;}#sk-container-id-1 input.sk-toggleable__control:checked~label.sk-toggleable__label-arrow:before {content: \"▾\";}#sk-container-id-1 div.sk-estimator input.sk-toggleable__control:checked~label.sk-toggleable__label {background-color: #d4ebff;}#sk-container-id-1 div.sk-label input.sk-toggleable__control:checked~label.sk-toggleable__label {background-color: #d4ebff;}#sk-container-id-1 input.sk-hidden--visually {border: 0;clip: rect(1px 1px 1px 1px);clip: rect(1px, 1px, 1px, 1px);height: 1px;margin: -1px;overflow: hidden;padding: 0;position: absolute;width: 1px;}#sk-container-id-1 div.sk-estimator {font-family: monospace;background-color: #f0f8ff;border: 1px dotted black;border-radius: 0.25em;box-sizing: border-box;margin-bottom: 0.5em;}#sk-container-id-1 div.sk-estimator:hover {background-color: #d4ebff;}#sk-container-id-1 div.sk-parallel-item::after {content: \"\";width: 100%;border-bottom: 1px solid gray;flex-grow: 1;}#sk-container-id-1 div.sk-label:hover label.sk-toggleable__label {background-color: #d4ebff;}#sk-container-id-1 div.sk-serial::before {content: \"\";position: absolute;border-left: 1px solid gray;box-sizing: border-box;top: 0;bottom: 0;left: 50%;z-index: 0;}#sk-container-id-1 div.sk-serial {display: flex;flex-direction: column;align-items: center;background-color: white;padding-right: 0.2em;padding-left: 0.2em;position: relative;}#sk-container-id-1 div.sk-item {position: relative;z-index: 1;}#sk-container-id-1 div.sk-parallel {display: flex;align-items: stretch;justify-content: center;background-color: white;position: relative;}#sk-container-id-1 div.sk-item::before, #sk-container-id-1 div.sk-parallel-item::before {content: \"\";position: absolute;border-left: 1px solid gray;box-sizing: border-box;top: 0;bottom: 0;left: 50%;z-index: -1;}#sk-container-id-1 div.sk-parallel-item {display: flex;flex-direction: column;z-index: 1;position: relative;background-color: white;}#sk-container-id-1 div.sk-parallel-item:first-child::after {align-self: flex-end;width: 50%;}#sk-container-id-1 div.sk-parallel-item:last-child::after {align-self: flex-start;width: 50%;}#sk-container-id-1 div.sk-parallel-item:only-child::after {width: 0;}#sk-container-id-1 div.sk-dashed-wrapped {border: 1px dashed gray;margin: 0 0.4em 0.5em 0.4em;box-sizing: border-box;padding-bottom: 0.4em;background-color: white;}#sk-container-id-1 div.sk-label label {font-family: monospace;font-weight: bold;display: inline-block;line-height: 1.2em;}#sk-container-id-1 div.sk-label-container {text-align: center;}#sk-container-id-1 div.sk-container {/* jupyter's `normalize.less` sets `[hidden] { display: none; }` but bootstrap.min.css set `[hidden] { display: none !important; }` so we also need the `!important` here to be able to override the default hidden behavior on the sphinx rendered scikit-learn.org. See: https://github.com/scikit-learn/scikit-learn/issues/21755 */display: inline-block !important;position: relative;}#sk-container-id-1 div.sk-text-repr-fallback {display: none;}</style><div id=\"sk-container-id-1\" class=\"sk-top-container\"><div class=\"sk-text-repr-fallback\"><pre>AdaBoostClassifier()</pre><b>In a Jupyter environment, please rerun this cell to show the HTML representation or trust the notebook. <br />On GitHub, the HTML representation is unable to render, please try loading this page with nbviewer.org.</b></div><div class=\"sk-container\" hidden><div class=\"sk-item\"><div class=\"sk-estimator sk-toggleable\"><input class=\"sk-toggleable__control sk-hidden--visually\" id=\"sk-estimator-id-1\" type=\"checkbox\" checked><label for=\"sk-estimator-id-1\" class=\"sk-toggleable__label sk-toggleable__label-arrow\">AdaBoostClassifier</label><div class=\"sk-toggleable__content\"><pre>AdaBoostClassifier()</pre></div></div></div></div></div>"
      ],
      "text/plain": [
       "AdaBoostClassifier()"
      ]
     },
     "execution_count": 18,
     "metadata": {},
     "output_type": "execute_result"
    }
   ],
   "source": [
    "from sklearn.tree import DecisionTreeClassifier\n",
    "from sklearn.naive_bayes import GaussianNB\n",
    "from sklearn.svm import SVC\n",
    "from sklearn.ensemble import RandomForestClassifier, GradientBoostingClassifier, AdaBoostClassifier\n",
    "decisiontree_model = DecisionTreeClassifier()\n",
    "decisiontree_model.fit(features_train, labels_train)\n",
    "\n",
    "naive_model = GaussianNB()\n",
    "naive_model.fit(features_train, labels_train)\n",
    "\n",
    "svm_model = SVC(kernel='rbf')\n",
    "svm_model.fit(features_train, labels_train)\n",
    "\n",
    "gradient_model = GradientBoostingClassifier()\n",
    "gradient_model.fit(features_train, labels_train)\n",
    "\n",
    "\n",
    "ada_model = AdaBoostClassifier()\n",
    "ada_model.fit(features_train, labels_train)"
   ]
  },
  {
   "cell_type": "markdown",
   "id": "97cb03a5",
   "metadata": {
    "papermill": {
     "duration": 0.013952,
     "end_time": "2024-03-15T18:48:21.333331",
     "exception": false,
     "start_time": "2024-03-15T18:48:21.319379",
     "status": "completed"
    },
    "tags": []
   },
   "source": [
    "# Evaluate across confusion_matrix and accuracy_scores"
   ]
  },
  {
   "cell_type": "code",
   "execution_count": 19,
   "id": "011667a3",
   "metadata": {
    "execution": {
     "iopub.execute_input": "2024-03-15T18:48:21.363183Z",
     "iopub.status.busy": "2024-03-15T18:48:21.362929Z",
     "iopub.status.idle": "2024-03-15T18:48:21.373580Z",
     "shell.execute_reply": "2024-03-15T18:48:21.372838Z"
    },
    "papermill": {
     "duration": 0.027795,
     "end_time": "2024-03-15T18:48:21.375393",
     "exception": false,
     "start_time": "2024-03-15T18:48:21.347598",
     "status": "completed"
    },
    "tags": []
   },
   "outputs": [
    {
     "data": {
      "text/plain": [
       "0.7419354838709677"
      ]
     },
     "execution_count": 19,
     "metadata": {},
     "output_type": "execute_result"
    }
   ],
   "source": [
    "from sklearn.metrics import confusion_matrix, accuracy_score, f1_score\n",
    "\n",
    "#decisiontree\n",
    "\n",
    "label1_pred = decisiontree_model.predict(features_valid)\n",
    "decisiontree_matrix = confusion_matrix(labels_valid, label1_pred)\n",
    "decisiontree_matrix\n",
    "accuracy_score(labels_valid, label1_pred)\n"
   ]
  },
  {
   "cell_type": "code",
   "execution_count": 20,
   "id": "4b5685f7",
   "metadata": {
    "execution": {
     "iopub.execute_input": "2024-03-15T18:48:21.406082Z",
     "iopub.status.busy": "2024-03-15T18:48:21.405517Z",
     "iopub.status.idle": "2024-03-15T18:48:21.416421Z",
     "shell.execute_reply": "2024-03-15T18:48:21.415602Z"
    },
    "papermill": {
     "duration": 0.028545,
     "end_time": "2024-03-15T18:48:21.418350",
     "exception": false,
     "start_time": "2024-03-15T18:48:21.389805",
     "status": "completed"
    },
    "tags": []
   },
   "outputs": [
    {
     "data": {
      "text/plain": [
       "0.5725806451612904"
      ]
     },
     "execution_count": 20,
     "metadata": {},
     "output_type": "execute_result"
    }
   ],
   "source": [
    "#naive_bayes\n",
    "label2_pred = naive_model.predict(features_valid)\n",
    "naive_matrix = confusion_matrix(labels_valid, label2_pred)\n",
    "naive_matrix\n",
    "accuracy_score(labels_valid, label2_pred)"
   ]
  },
  {
   "cell_type": "code",
   "execution_count": 21,
   "id": "0081b9c0",
   "metadata": {
    "execution": {
     "iopub.execute_input": "2024-03-15T18:48:21.448867Z",
     "iopub.status.busy": "2024-03-15T18:48:21.448589Z",
     "iopub.status.idle": "2024-03-15T18:48:21.470882Z",
     "shell.execute_reply": "2024-03-15T18:48:21.470046Z"
    },
    "papermill": {
     "duration": 0.039737,
     "end_time": "2024-03-15T18:48:21.472728",
     "exception": false,
     "start_time": "2024-03-15T18:48:21.432991",
     "status": "completed"
    },
    "tags": []
   },
   "outputs": [
    {
     "data": {
      "text/plain": [
       "0.6411290322580645"
      ]
     },
     "execution_count": 21,
     "metadata": {},
     "output_type": "execute_result"
    }
   ],
   "source": [
    "#SVM\n",
    "label3_pred = svm_model.predict(features_valid)\n",
    "svm_matrix = confusion_matrix(labels_valid, label3_pred)\n",
    "svm_matrix\n",
    "accuracy_score(labels_valid, label3_pred)"
   ]
  },
  {
   "cell_type": "code",
   "execution_count": 22,
   "id": "f7547576",
   "metadata": {
    "execution": {
     "iopub.execute_input": "2024-03-15T18:48:21.502270Z",
     "iopub.status.busy": "2024-03-15T18:48:21.502016Z",
     "iopub.status.idle": "2024-03-15T18:48:21.512527Z",
     "shell.execute_reply": "2024-03-15T18:48:21.511754Z"
    },
    "papermill": {
     "duration": 0.027449,
     "end_time": "2024-03-15T18:48:21.514355",
     "exception": false,
     "start_time": "2024-03-15T18:48:21.486906",
     "status": "completed"
    },
    "tags": []
   },
   "outputs": [
    {
     "data": {
      "text/plain": [
       "0.782258064516129"
      ]
     },
     "execution_count": 22,
     "metadata": {},
     "output_type": "execute_result"
    }
   ],
   "source": [
    "# GradientBoosting\n",
    "label4_pred = gradient_model.predict(features_valid)\n",
    "gradient_matrix = confusion_matrix(labels_valid, label4_pred)\n",
    "gradient_matrix\n",
    "accuracy_score(labels_valid, label4_pred)"
   ]
  },
  {
   "cell_type": "code",
   "execution_count": 23,
   "id": "67ae2c11",
   "metadata": {
    "execution": {
     "iopub.execute_input": "2024-03-15T18:48:21.544048Z",
     "iopub.status.busy": "2024-03-15T18:48:21.543774Z",
     "iopub.status.idle": "2024-03-15T18:48:21.562616Z",
     "shell.execute_reply": "2024-03-15T18:48:21.561800Z"
    },
    "papermill": {
     "duration": 0.035919,
     "end_time": "2024-03-15T18:48:21.564577",
     "exception": false,
     "start_time": "2024-03-15T18:48:21.528658",
     "status": "completed"
    },
    "tags": []
   },
   "outputs": [
    {
     "data": {
      "text/plain": [
       "0.7782258064516129"
      ]
     },
     "execution_count": 23,
     "metadata": {},
     "output_type": "execute_result"
    }
   ],
   "source": [
    "#AdaBoostClassifier\n",
    "\n",
    "label5_pred = ada_model.predict(features_valid)\n",
    "ada_matrix = confusion_matrix(labels_valid, label5_pred)\n",
    "ada_matrix\n",
    "accuracy_score(labels_valid, label5_pred)"
   ]
  },
  {
   "cell_type": "markdown",
   "id": "f631204c",
   "metadata": {
    "papermill": {
     "duration": 0.014583,
     "end_time": "2024-03-15T18:48:21.594564",
     "exception": false,
     "start_time": "2024-03-15T18:48:21.579981",
     "status": "completed"
    },
    "tags": []
   },
   "source": [
    " we can see that AdaBoost shows a best accuracy_score in validation set with approxiate 80.2% . Not bad but not surprising !\n",
    " Now, let's predict accuracy of test set by use f1-score ( harmonic mean of recall and precision)"
   ]
  },
  {
   "cell_type": "code",
   "execution_count": 24,
   "id": "0023449a",
   "metadata": {
    "execution": {
     "iopub.execute_input": "2024-03-15T18:48:21.624819Z",
     "iopub.status.busy": "2024-03-15T18:48:21.624561Z",
     "iopub.status.idle": "2024-03-15T18:48:21.635089Z",
     "shell.execute_reply": "2024-03-15T18:48:21.634313Z"
    },
    "papermill": {
     "duration": 0.027685,
     "end_time": "2024-03-15T18:48:21.636814",
     "exception": false,
     "start_time": "2024-03-15T18:48:21.609129",
     "status": "completed"
    },
    "tags": []
   },
   "outputs": [
    {
     "data": {
      "text/plain": [
       "0.7945945945945946"
      ]
     },
     "execution_count": 24,
     "metadata": {},
     "output_type": "execute_result"
    }
   ],
   "source": [
    "#DecisionTree\n",
    "label1_test_pred = decisiontree_model.predict(features_test)\n",
    "f1_score(labels_test, label1_test_pred)"
   ]
  },
  {
   "cell_type": "code",
   "execution_count": 25,
   "id": "13a26bd5",
   "metadata": {
    "execution": {
     "iopub.execute_input": "2024-03-15T18:48:21.667620Z",
     "iopub.status.busy": "2024-03-15T18:48:21.667093Z",
     "iopub.status.idle": "2024-03-15T18:48:21.677077Z",
     "shell.execute_reply": "2024-03-15T18:48:21.676248Z"
    },
    "papermill": {
     "duration": 0.027308,
     "end_time": "2024-03-15T18:48:21.678859",
     "exception": false,
     "start_time": "2024-03-15T18:48:21.651551",
     "status": "completed"
    },
    "tags": []
   },
   "outputs": [
    {
     "data": {
      "text/plain": [
       "0.6553191489361702"
      ]
     },
     "execution_count": 25,
     "metadata": {},
     "output_type": "execute_result"
    }
   ],
   "source": [
    "#NaiveBayes\n",
    "label2_test_pred = naive_model.predict(features_test)\n",
    "f1_score(labels_test, label2_test_pred)"
   ]
  },
  {
   "cell_type": "code",
   "execution_count": 26,
   "id": "50163336",
   "metadata": {
    "execution": {
     "iopub.execute_input": "2024-03-15T18:48:21.709166Z",
     "iopub.status.busy": "2024-03-15T18:48:21.708923Z",
     "iopub.status.idle": "2024-03-15T18:48:21.737841Z",
     "shell.execute_reply": "2024-03-15T18:48:21.737025Z"
    },
    "papermill": {
     "duration": 0.046248,
     "end_time": "2024-03-15T18:48:21.739759",
     "exception": false,
     "start_time": "2024-03-15T18:48:21.693511",
     "status": "completed"
    },
    "tags": []
   },
   "outputs": [
    {
     "data": {
      "text/plain": [
       "0.5846994535519126"
      ]
     },
     "execution_count": 26,
     "metadata": {},
     "output_type": "execute_result"
    }
   ],
   "source": [
    "#SVM\n",
    "label3_test_pred = svm_model.predict(features_test)\n",
    "f1_score(labels_test, label3_test_pred)"
   ]
  },
  {
   "cell_type": "code",
   "execution_count": 27,
   "id": "906be90b",
   "metadata": {
    "execution": {
     "iopub.execute_input": "2024-03-15T18:48:21.770466Z",
     "iopub.status.busy": "2024-03-15T18:48:21.770211Z",
     "iopub.status.idle": "2024-03-15T18:48:21.780967Z",
     "shell.execute_reply": "2024-03-15T18:48:21.780130Z"
    },
    "papermill": {
     "duration": 0.028199,
     "end_time": "2024-03-15T18:48:21.782785",
     "exception": false,
     "start_time": "2024-03-15T18:48:21.754586",
     "status": "completed"
    },
    "tags": []
   },
   "outputs": [
    {
     "data": {
      "text/plain": [
       "0.7859078590785908"
      ]
     },
     "execution_count": 27,
     "metadata": {},
     "output_type": "execute_result"
    }
   ],
   "source": [
    "#GradientBoosting\n",
    "label4_test_pred = gradient_model.predict(features_test)\n",
    "f1_score(labels_test, label4_test_pred)"
   ]
  },
  {
   "cell_type": "code",
   "execution_count": 28,
   "id": "f1b4b32f",
   "metadata": {
    "execution": {
     "iopub.execute_input": "2024-03-15T18:48:21.814035Z",
     "iopub.status.busy": "2024-03-15T18:48:21.813758Z",
     "iopub.status.idle": "2024-03-15T18:48:21.834634Z",
     "shell.execute_reply": "2024-03-15T18:48:21.833865Z"
    },
    "papermill": {
     "duration": 0.038509,
     "end_time": "2024-03-15T18:48:21.836505",
     "exception": false,
     "start_time": "2024-03-15T18:48:21.797996",
     "status": "completed"
    },
    "tags": []
   },
   "outputs": [
    {
     "data": {
      "text/plain": [
       "0.7651715039577835"
      ]
     },
     "execution_count": 28,
     "metadata": {},
     "output_type": "execute_result"
    }
   ],
   "source": [
    "#AdaBoosting\n",
    "label5_test_pred = ada_model.predict(features_test)\n",
    "f1_score(labels_test, label5_test_pred)"
   ]
  },
  {
   "cell_type": "markdown",
   "id": "446b2ed0",
   "metadata": {
    "papermill": {
     "duration": 0.015648,
     "end_time": "2024-03-15T18:48:21.867751",
     "exception": false,
     "start_time": "2024-03-15T18:48:21.852103",
     "status": "completed"
    },
    "tags": []
   },
   "source": [
    "It seems pretty good, right? approximately 80 % with GradientBoosting and AdaBoost\n",
    "The question that arises is : Can it be improved further? Obviously, let's answer this interesting this question together.\n",
    "# GridSearchCV (Tuning the hypoparameters to find the best  model)\n",
    "Start with SVM:\n"
   ]
  },
  {
   "cell_type": "code",
   "execution_count": 29,
   "id": "fe452ec4",
   "metadata": {
    "execution": {
     "iopub.execute_input": "2024-03-15T18:48:21.900343Z",
     "iopub.status.busy": "2024-03-15T18:48:21.900081Z",
     "iopub.status.idle": "2024-03-15T18:48:31.205005Z",
     "shell.execute_reply": "2024-03-15T18:48:31.204114Z"
    },
    "papermill": {
     "duration": 9.323708,
     "end_time": "2024-03-15T18:48:31.207069",
     "exception": false,
     "start_time": "2024-03-15T18:48:21.883361",
     "status": "completed"
    },
    "tags": []
   },
   "outputs": [
    {
     "data": {
      "text/html": [
       "<style>#sk-container-id-2 {color: black;background-color: white;}#sk-container-id-2 pre{padding: 0;}#sk-container-id-2 div.sk-toggleable {background-color: white;}#sk-container-id-2 label.sk-toggleable__label {cursor: pointer;display: block;width: 100%;margin-bottom: 0;padding: 0.3em;box-sizing: border-box;text-align: center;}#sk-container-id-2 label.sk-toggleable__label-arrow:before {content: \"▸\";float: left;margin-right: 0.25em;color: #696969;}#sk-container-id-2 label.sk-toggleable__label-arrow:hover:before {color: black;}#sk-container-id-2 div.sk-estimator:hover label.sk-toggleable__label-arrow:before {color: black;}#sk-container-id-2 div.sk-toggleable__content {max-height: 0;max-width: 0;overflow: hidden;text-align: left;background-color: #f0f8ff;}#sk-container-id-2 div.sk-toggleable__content pre {margin: 0.2em;color: black;border-radius: 0.25em;background-color: #f0f8ff;}#sk-container-id-2 input.sk-toggleable__control:checked~div.sk-toggleable__content {max-height: 200px;max-width: 100%;overflow: auto;}#sk-container-id-2 input.sk-toggleable__control:checked~label.sk-toggleable__label-arrow:before {content: \"▾\";}#sk-container-id-2 div.sk-estimator input.sk-toggleable__control:checked~label.sk-toggleable__label {background-color: #d4ebff;}#sk-container-id-2 div.sk-label input.sk-toggleable__control:checked~label.sk-toggleable__label {background-color: #d4ebff;}#sk-container-id-2 input.sk-hidden--visually {border: 0;clip: rect(1px 1px 1px 1px);clip: rect(1px, 1px, 1px, 1px);height: 1px;margin: -1px;overflow: hidden;padding: 0;position: absolute;width: 1px;}#sk-container-id-2 div.sk-estimator {font-family: monospace;background-color: #f0f8ff;border: 1px dotted black;border-radius: 0.25em;box-sizing: border-box;margin-bottom: 0.5em;}#sk-container-id-2 div.sk-estimator:hover {background-color: #d4ebff;}#sk-container-id-2 div.sk-parallel-item::after {content: \"\";width: 100%;border-bottom: 1px solid gray;flex-grow: 1;}#sk-container-id-2 div.sk-label:hover label.sk-toggleable__label {background-color: #d4ebff;}#sk-container-id-2 div.sk-serial::before {content: \"\";position: absolute;border-left: 1px solid gray;box-sizing: border-box;top: 0;bottom: 0;left: 50%;z-index: 0;}#sk-container-id-2 div.sk-serial {display: flex;flex-direction: column;align-items: center;background-color: white;padding-right: 0.2em;padding-left: 0.2em;position: relative;}#sk-container-id-2 div.sk-item {position: relative;z-index: 1;}#sk-container-id-2 div.sk-parallel {display: flex;align-items: stretch;justify-content: center;background-color: white;position: relative;}#sk-container-id-2 div.sk-item::before, #sk-container-id-2 div.sk-parallel-item::before {content: \"\";position: absolute;border-left: 1px solid gray;box-sizing: border-box;top: 0;bottom: 0;left: 50%;z-index: -1;}#sk-container-id-2 div.sk-parallel-item {display: flex;flex-direction: column;z-index: 1;position: relative;background-color: white;}#sk-container-id-2 div.sk-parallel-item:first-child::after {align-self: flex-end;width: 50%;}#sk-container-id-2 div.sk-parallel-item:last-child::after {align-self: flex-start;width: 50%;}#sk-container-id-2 div.sk-parallel-item:only-child::after {width: 0;}#sk-container-id-2 div.sk-dashed-wrapped {border: 1px dashed gray;margin: 0 0.4em 0.5em 0.4em;box-sizing: border-box;padding-bottom: 0.4em;background-color: white;}#sk-container-id-2 div.sk-label label {font-family: monospace;font-weight: bold;display: inline-block;line-height: 1.2em;}#sk-container-id-2 div.sk-label-container {text-align: center;}#sk-container-id-2 div.sk-container {/* jupyter's `normalize.less` sets `[hidden] { display: none; }` but bootstrap.min.css set `[hidden] { display: none !important; }` so we also need the `!important` here to be able to override the default hidden behavior on the sphinx rendered scikit-learn.org. See: https://github.com/scikit-learn/scikit-learn/issues/21755 */display: inline-block !important;position: relative;}#sk-container-id-2 div.sk-text-repr-fallback {display: none;}</style><div id=\"sk-container-id-2\" class=\"sk-top-container\"><div class=\"sk-text-repr-fallback\"><pre>GridSearchCV(estimator=SVC(),\n",
       "             param_grid={&#x27;C&#x27;: [0.01, 0.1, 1, 10, 100],\n",
       "                         &#x27;gamma&#x27;: [0.01, 0.1, 1, 10, 100], &#x27;kernel&#x27;: [&#x27;rbf&#x27;]})</pre><b>In a Jupyter environment, please rerun this cell to show the HTML representation or trust the notebook. <br />On GitHub, the HTML representation is unable to render, please try loading this page with nbviewer.org.</b></div><div class=\"sk-container\" hidden><div class=\"sk-item sk-dashed-wrapped\"><div class=\"sk-label-container\"><div class=\"sk-label sk-toggleable\"><input class=\"sk-toggleable__control sk-hidden--visually\" id=\"sk-estimator-id-2\" type=\"checkbox\" ><label for=\"sk-estimator-id-2\" class=\"sk-toggleable__label sk-toggleable__label-arrow\">GridSearchCV</label><div class=\"sk-toggleable__content\"><pre>GridSearchCV(estimator=SVC(),\n",
       "             param_grid={&#x27;C&#x27;: [0.01, 0.1, 1, 10, 100],\n",
       "                         &#x27;gamma&#x27;: [0.01, 0.1, 1, 10, 100], &#x27;kernel&#x27;: [&#x27;rbf&#x27;]})</pre></div></div></div><div class=\"sk-parallel\"><div class=\"sk-parallel-item\"><div class=\"sk-item\"><div class=\"sk-label-container\"><div class=\"sk-label sk-toggleable\"><input class=\"sk-toggleable__control sk-hidden--visually\" id=\"sk-estimator-id-3\" type=\"checkbox\" ><label for=\"sk-estimator-id-3\" class=\"sk-toggleable__label sk-toggleable__label-arrow\">estimator: SVC</label><div class=\"sk-toggleable__content\"><pre>SVC()</pre></div></div></div><div class=\"sk-serial\"><div class=\"sk-item\"><div class=\"sk-estimator sk-toggleable\"><input class=\"sk-toggleable__control sk-hidden--visually\" id=\"sk-estimator-id-4\" type=\"checkbox\" ><label for=\"sk-estimator-id-4\" class=\"sk-toggleable__label sk-toggleable__label-arrow\">SVC</label><div class=\"sk-toggleable__content\"><pre>SVC()</pre></div></div></div></div></div></div></div></div></div></div>"
      ],
      "text/plain": [
       "GridSearchCV(estimator=SVC(),\n",
       "             param_grid={'C': [0.01, 0.1, 1, 10, 100],\n",
       "                         'gamma': [0.01, 0.1, 1, 10, 100], 'kernel': ['rbf']})"
      ]
     },
     "execution_count": 29,
     "metadata": {},
     "output_type": "execute_result"
    }
   ],
   "source": [
    "from sklearn.model_selection import GridSearchCV\n",
    "svm_parameters = {'kernel':['rbf'],\n",
    "                 'gamma':[0.01, 0.1, 1, 10, 100],\n",
    "                 'C':[0.01,0.1,1,10,100]}\n",
    "svm = SVC()\n",
    "\n",
    "svm_model1 = GridSearchCV(estimator = svm, param_grid = svm_parameters)\n",
    "svm_model1.fit(features_train, labels_train)"
   ]
  },
  {
   "cell_type": "markdown",
   "id": "aee0e9dd",
   "metadata": {
    "papermill": {
     "duration": 0.015194,
     "end_time": "2024-03-15T18:48:31.239218",
     "exception": false,
     "start_time": "2024-03-15T18:48:31.224024",
     "status": "completed"
    },
    "tags": []
   },
   "source": []
  },
  {
   "cell_type": "code",
   "execution_count": 30,
   "id": "f85b58bc",
   "metadata": {
    "execution": {
     "iopub.execute_input": "2024-03-15T18:48:31.270791Z",
     "iopub.status.busy": "2024-03-15T18:48:31.270514Z",
     "iopub.status.idle": "2024-03-15T18:48:31.293975Z",
     "shell.execute_reply": "2024-03-15T18:48:31.293107Z"
    },
    "papermill": {
     "duration": 0.04146,
     "end_time": "2024-03-15T18:48:31.295833",
     "exception": false,
     "start_time": "2024-03-15T18:48:31.254373",
     "status": "completed"
    },
    "tags": []
   },
   "outputs": [
    {
     "data": {
      "text/plain": [
       "0.7043478260869566"
      ]
     },
     "execution_count": 30,
     "metadata": {},
     "output_type": "execute_result"
    }
   ],
   "source": [
    "valid_predict = svm_model1.predict(features_valid)\n",
    "f1_score(valid_predict, labels_valid)"
   ]
  },
  {
   "cell_type": "code",
   "execution_count": 31,
   "id": "ec738d24",
   "metadata": {
    "execution": {
     "iopub.execute_input": "2024-03-15T18:48:31.329847Z",
     "iopub.status.busy": "2024-03-15T18:48:31.329160Z",
     "iopub.status.idle": "2024-03-15T18:48:31.359939Z",
     "shell.execute_reply": "2024-03-15T18:48:31.359032Z"
    },
    "papermill": {
     "duration": 0.049038,
     "end_time": "2024-03-15T18:48:31.361740",
     "exception": false,
     "start_time": "2024-03-15T18:48:31.312702",
     "status": "completed"
    },
    "tags": []
   },
   "outputs": [
    {
     "data": {
      "text/plain": [
       "0.7924528301886792"
      ]
     },
     "execution_count": 31,
     "metadata": {},
     "output_type": "execute_result"
    }
   ],
   "source": [
    "test_predict = svm_model1.predict(features_test)\n",
    "f1_score(test_predict, labels_test)"
   ]
  },
  {
   "cell_type": "markdown",
   "id": "edafde88",
   "metadata": {
    "papermill": {
     "duration": 0.015365,
     "end_time": "2024-03-15T18:48:31.392703",
     "exception": false,
     "start_time": "2024-03-15T18:48:31.377338",
     "status": "completed"
    },
    "tags": []
   },
   "source": [
    "A significant improvement!"
   ]
  },
  {
   "cell_type": "code",
   "execution_count": 32,
   "id": "4dc54efe",
   "metadata": {
    "execution": {
     "iopub.execute_input": "2024-03-15T18:48:31.424891Z",
     "iopub.status.busy": "2024-03-15T18:48:31.424588Z",
     "iopub.status.idle": "2024-03-15T18:48:42.691350Z",
     "shell.execute_reply": "2024-03-15T18:48:42.690492Z"
    },
    "papermill": {
     "duration": 11.285185,
     "end_time": "2024-03-15T18:48:42.693450",
     "exception": false,
     "start_time": "2024-03-15T18:48:31.408265",
     "status": "completed"
    },
    "tags": []
   },
   "outputs": [
    {
     "data": {
      "text/html": [
       "<style>#sk-container-id-3 {color: black;background-color: white;}#sk-container-id-3 pre{padding: 0;}#sk-container-id-3 div.sk-toggleable {background-color: white;}#sk-container-id-3 label.sk-toggleable__label {cursor: pointer;display: block;width: 100%;margin-bottom: 0;padding: 0.3em;box-sizing: border-box;text-align: center;}#sk-container-id-3 label.sk-toggleable__label-arrow:before {content: \"▸\";float: left;margin-right: 0.25em;color: #696969;}#sk-container-id-3 label.sk-toggleable__label-arrow:hover:before {color: black;}#sk-container-id-3 div.sk-estimator:hover label.sk-toggleable__label-arrow:before {color: black;}#sk-container-id-3 div.sk-toggleable__content {max-height: 0;max-width: 0;overflow: hidden;text-align: left;background-color: #f0f8ff;}#sk-container-id-3 div.sk-toggleable__content pre {margin: 0.2em;color: black;border-radius: 0.25em;background-color: #f0f8ff;}#sk-container-id-3 input.sk-toggleable__control:checked~div.sk-toggleable__content {max-height: 200px;max-width: 100%;overflow: auto;}#sk-container-id-3 input.sk-toggleable__control:checked~label.sk-toggleable__label-arrow:before {content: \"▾\";}#sk-container-id-3 div.sk-estimator input.sk-toggleable__control:checked~label.sk-toggleable__label {background-color: #d4ebff;}#sk-container-id-3 div.sk-label input.sk-toggleable__control:checked~label.sk-toggleable__label {background-color: #d4ebff;}#sk-container-id-3 input.sk-hidden--visually {border: 0;clip: rect(1px 1px 1px 1px);clip: rect(1px, 1px, 1px, 1px);height: 1px;margin: -1px;overflow: hidden;padding: 0;position: absolute;width: 1px;}#sk-container-id-3 div.sk-estimator {font-family: monospace;background-color: #f0f8ff;border: 1px dotted black;border-radius: 0.25em;box-sizing: border-box;margin-bottom: 0.5em;}#sk-container-id-3 div.sk-estimator:hover {background-color: #d4ebff;}#sk-container-id-3 div.sk-parallel-item::after {content: \"\";width: 100%;border-bottom: 1px solid gray;flex-grow: 1;}#sk-container-id-3 div.sk-label:hover label.sk-toggleable__label {background-color: #d4ebff;}#sk-container-id-3 div.sk-serial::before {content: \"\";position: absolute;border-left: 1px solid gray;box-sizing: border-box;top: 0;bottom: 0;left: 50%;z-index: 0;}#sk-container-id-3 div.sk-serial {display: flex;flex-direction: column;align-items: center;background-color: white;padding-right: 0.2em;padding-left: 0.2em;position: relative;}#sk-container-id-3 div.sk-item {position: relative;z-index: 1;}#sk-container-id-3 div.sk-parallel {display: flex;align-items: stretch;justify-content: center;background-color: white;position: relative;}#sk-container-id-3 div.sk-item::before, #sk-container-id-3 div.sk-parallel-item::before {content: \"\";position: absolute;border-left: 1px solid gray;box-sizing: border-box;top: 0;bottom: 0;left: 50%;z-index: -1;}#sk-container-id-3 div.sk-parallel-item {display: flex;flex-direction: column;z-index: 1;position: relative;background-color: white;}#sk-container-id-3 div.sk-parallel-item:first-child::after {align-self: flex-end;width: 50%;}#sk-container-id-3 div.sk-parallel-item:last-child::after {align-self: flex-start;width: 50%;}#sk-container-id-3 div.sk-parallel-item:only-child::after {width: 0;}#sk-container-id-3 div.sk-dashed-wrapped {border: 1px dashed gray;margin: 0 0.4em 0.5em 0.4em;box-sizing: border-box;padding-bottom: 0.4em;background-color: white;}#sk-container-id-3 div.sk-label label {font-family: monospace;font-weight: bold;display: inline-block;line-height: 1.2em;}#sk-container-id-3 div.sk-label-container {text-align: center;}#sk-container-id-3 div.sk-container {/* jupyter's `normalize.less` sets `[hidden] { display: none; }` but bootstrap.min.css set `[hidden] { display: none !important; }` so we also need the `!important` here to be able to override the default hidden behavior on the sphinx rendered scikit-learn.org. See: https://github.com/scikit-learn/scikit-learn/issues/21755 */display: inline-block !important;position: relative;}#sk-container-id-3 div.sk-text-repr-fallback {display: none;}</style><div id=\"sk-container-id-3\" class=\"sk-top-container\"><div class=\"sk-text-repr-fallback\"><pre>GridSearchCV(estimator=GradientBoostingClassifier(),\n",
       "             param_grid={&#x27;learning_rate&#x27;: [0.01, 0.1, 1.0, 10],\n",
       "                         &#x27;n_estimators&#x27;: [10, 100, 1],\n",
       "                         &#x27;subsample&#x27;: [0.5, 0.6, 1.0]})</pre><b>In a Jupyter environment, please rerun this cell to show the HTML representation or trust the notebook. <br />On GitHub, the HTML representation is unable to render, please try loading this page with nbviewer.org.</b></div><div class=\"sk-container\" hidden><div class=\"sk-item sk-dashed-wrapped\"><div class=\"sk-label-container\"><div class=\"sk-label sk-toggleable\"><input class=\"sk-toggleable__control sk-hidden--visually\" id=\"sk-estimator-id-5\" type=\"checkbox\" ><label for=\"sk-estimator-id-5\" class=\"sk-toggleable__label sk-toggleable__label-arrow\">GridSearchCV</label><div class=\"sk-toggleable__content\"><pre>GridSearchCV(estimator=GradientBoostingClassifier(),\n",
       "             param_grid={&#x27;learning_rate&#x27;: [0.01, 0.1, 1.0, 10],\n",
       "                         &#x27;n_estimators&#x27;: [10, 100, 1],\n",
       "                         &#x27;subsample&#x27;: [0.5, 0.6, 1.0]})</pre></div></div></div><div class=\"sk-parallel\"><div class=\"sk-parallel-item\"><div class=\"sk-item\"><div class=\"sk-label-container\"><div class=\"sk-label sk-toggleable\"><input class=\"sk-toggleable__control sk-hidden--visually\" id=\"sk-estimator-id-6\" type=\"checkbox\" ><label for=\"sk-estimator-id-6\" class=\"sk-toggleable__label sk-toggleable__label-arrow\">estimator: GradientBoostingClassifier</label><div class=\"sk-toggleable__content\"><pre>GradientBoostingClassifier()</pre></div></div></div><div class=\"sk-serial\"><div class=\"sk-item\"><div class=\"sk-estimator sk-toggleable\"><input class=\"sk-toggleable__control sk-hidden--visually\" id=\"sk-estimator-id-7\" type=\"checkbox\" ><label for=\"sk-estimator-id-7\" class=\"sk-toggleable__label sk-toggleable__label-arrow\">GradientBoostingClassifier</label><div class=\"sk-toggleable__content\"><pre>GradientBoostingClassifier()</pre></div></div></div></div></div></div></div></div></div></div>"
      ],
      "text/plain": [
       "GridSearchCV(estimator=GradientBoostingClassifier(),\n",
       "             param_grid={'learning_rate': [0.01, 0.1, 1.0, 10],\n",
       "                         'n_estimators': [10, 100, 1],\n",
       "                         'subsample': [0.5, 0.6, 1.0]})"
      ]
     },
     "execution_count": 32,
     "metadata": {},
     "output_type": "execute_result"
    }
   ],
   "source": [
    "gradientboosst_parameters = {'learning_rate':[0.01, 0.1, 1.0, 10],\n",
    "                            'n_estimators':[10, 100, 1],\n",
    "                            'subsample':[0.5, 0.6,1.0]}\n",
    "gradientboost = GradientBoostingClassifier()\n",
    "gra_model = GridSearchCV(estimator = gradientboost, param_grid = gradientboosst_parameters )\n",
    "gra_model.fit(features_train, labels_train)\n"
   ]
  },
  {
   "cell_type": "code",
   "execution_count": 33,
   "id": "9c7b9e36",
   "metadata": {
    "execution": {
     "iopub.execute_input": "2024-03-15T18:48:42.727215Z",
     "iopub.status.busy": "2024-03-15T18:48:42.726642Z",
     "iopub.status.idle": "2024-03-15T18:48:42.738553Z",
     "shell.execute_reply": "2024-03-15T18:48:42.737706Z"
    },
    "papermill": {
     "duration": 0.030723,
     "end_time": "2024-03-15T18:48:42.740533",
     "exception": false,
     "start_time": "2024-03-15T18:48:42.709810",
     "status": "completed"
    },
    "tags": []
   },
   "outputs": [
    {
     "data": {
      "text/plain": [
       "0.7933884297520661"
      ]
     },
     "execution_count": 33,
     "metadata": {},
     "output_type": "execute_result"
    }
   ],
   "source": [
    "test_predict = gra_model.predict(features_test)\n",
    "f1_score(test_predict, labels_test)"
   ]
  }
 ],
 "metadata": {
  "kaggle": {
   "accelerator": "nvidiaTeslaT4",
   "dataSources": [
    {
     "datasetId": 1275,
     "sourceId": 2286,
     "sourceType": "datasetVersion"
    }
   ],
   "dockerImageVersionId": 30664,
   "isGpuEnabled": true,
   "isInternetEnabled": true,
   "language": "python",
   "sourceType": "notebook"
  },
  "kernelspec": {
   "display_name": "Python 3",
   "language": "python",
   "name": "python3"
  },
  "language_info": {
   "codemirror_mode": {
    "name": "ipython",
    "version": 3
   },
   "file_extension": ".py",
   "mimetype": "text/x-python",
   "name": "python",
   "nbconvert_exporter": "python",
   "pygments_lexer": "ipython3",
   "version": "3.10.13"
  },
  "papermill": {
   "default_parameters": {},
   "duration": 31.556067,
   "end_time": "2024-03-15T18:48:43.175308",
   "environment_variables": {},
   "exception": null,
   "input_path": "__notebook__.ipynb",
   "output_path": "__notebook__.ipynb",
   "parameters": {},
   "start_time": "2024-03-15T18:48:11.619241",
   "version": "2.5.0"
  }
 },
 "nbformat": 4,
 "nbformat_minor": 5
}
